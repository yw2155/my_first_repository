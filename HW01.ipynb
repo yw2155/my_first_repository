{
 "cells": [
  {
   "cell_type": "markdown",
   "metadata": {},
   "source": [
    "# Homework 1 \n",
    "**(by Yingqiang Wang (yw2155))**"
   ]
  },
  {
   "cell_type": "code",
   "execution_count": 2,
   "metadata": {},
   "outputs": [
    {
     "data": {
      "text/plain": [
       "7"
      ]
     },
     "execution_count": 2,
     "metadata": {},
     "output_type": "execute_result"
    }
   ],
   "source": [
    "2+5 #adds"
   ]
  },
  {
   "cell_type": "code",
   "execution_count": 3,
   "metadata": {},
   "outputs": [
    {
     "data": {
      "text/plain": [
       "7"
      ]
     },
     "execution_count": 3,
     "metadata": {},
     "output_type": "execute_result"
    }
   ],
   "source": [
    "2 + 5 #still adds"
   ]
  },
  {
   "cell_type": "code",
   "execution_count": 4,
   "metadata": {},
   "outputs": [
    {
     "data": {
      "text/plain": [
       "10"
      ]
     },
     "execution_count": 4,
     "metadata": {},
     "output_type": "execute_result"
    }
   ],
   "source": [
    "2*5 #multiply"
   ]
  },
  {
   "cell_type": "code",
   "execution_count": 5,
   "metadata": {},
   "outputs": [
    {
     "data": {
      "text/plain": [
       "0.4"
      ]
     },
     "execution_count": 5,
     "metadata": {},
     "output_type": "execute_result"
    }
   ],
   "source": [
    "2/5 #divide"
   ]
  },
  {
   "cell_type": "code",
   "execution_count": 6,
   "metadata": {},
   "outputs": [
    {
     "data": {
      "text/plain": [
       "32"
      ]
     },
     "execution_count": 6,
     "metadata": {},
     "output_type": "execute_result"
    }
   ],
   "source": [
    "2**5 #power"
   ]
  },
  {
   "cell_type": "markdown",
   "metadata": {},
   "source": [
    "q2: x=10. Because the first line point 7 to variable x. Then second line modifies x by adding 3 on itself, which makes it equals to 10. "
   ]
  },
  {
   "cell_type": "markdown",
   "metadata": {},
   "source": [
    "q3. y=3. Because first line assign 3 to x, then assign the value of x currently to y. The later modification of x will not affect the value of y. So y will still be 3. "
   ]
  },
  {
   "cell_type": "markdown",
   "metadata": {},
   "source": [
    "q4. Yes, this code can run without error and it will produce '1.5 abcabc'."
   ]
  },
  {
   "cell_type": "markdown",
   "metadata": {},
   "source": [
    "q5. No, it has an error. Because float type cannot add with string type. "
   ]
  },
  {
   "cell_type": "markdown",
   "metadata": {},
   "source": [
    "q6. Yes. It produces '3 | 24 | 8'."
   ]
  },
  {
   "cell_type": "markdown",
   "metadata": {},
   "source": [
    "q7. No. Because string type and integer type cannot run divide operant."
   ]
  },
  {
   "cell_type": "markdown",
   "metadata": {},
   "source": [
    "q8. Yes, this code can run. It won't produce anything because there's no print command to print out result. It assigns a string to x, and words behind # are comment. "
   ]
  },
  {
   "cell_type": "markdown",
   "metadata": {},
   "source": [
    "q9. Yes, this code can run. It produces [1,2,3,42,43]. "
   ]
  },
  {
   "cell_type": "markdown",
   "metadata": {},
   "source": [
    "q10. No, it has an error. Number cannot be added with list. "
   ]
  },
  {
   "cell_type": "markdown",
   "metadata": {},
   "source": [
    "q11. \n",
    "-  x1: int \n",
    "-  x2: float \n",
    "-  x3: string \n",
    "-  x4: list \n",
    "-  x5: list "
   ]
  },
  {
   "cell_type": "markdown",
   "metadata": {},
   "source": [
    "q12. \n",
    "-  int (42 is an integer)\n",
    "-  float (42.0 is a float point number)\n",
    "-  string (with a quotation mark, number becomes a string)\n",
    "-  string (double quotation mark won't make a difference)\n",
    "-  string (triple the double quotation mark makes no difference too)\n",
    "-  list (square bracket means list)\n",
    "-  list (list plus another list gets list)\n",
    "-  int (int plus int gets int)\n",
    "-  builtin_function_or_method ('print' function is a python built-in function)"
   ]
  },
  {
   "cell_type": "markdown",
   "metadata": {},
   "source": [
    "q13. Result is float. The final type follows the function at the most outside bracket. "
   ]
  },
  {
   "cell_type": "markdown",
   "metadata": {},
   "source": [
    "q14. Result is int. Same explanation as q13. Here 'int' function round the float point number into integer. "
   ]
  },
  {
   "cell_type": "markdown",
   "metadata": {},
   "source": [
    "q15. \n",
    "-  Result is 1. The length of this list is one because there's one integer in it. \n",
    "-  Result is 4. The length of this string is 4. \n",
    "-  Error. Because integer is not the right type for len() function. "
   ]
  },
  {
   "cell_type": "markdown",
   "metadata": {},
   "source": [
    "q16. The type of x is list because we assign an empty list to x. Length of x would be 0. "
   ]
  },
  {
   "cell_type": "markdown",
   "metadata": {},
   "source": [
    "q17. It looks like five seperate letters in a list. (['a', 'b', 'c', 'd', 'e'])"
   ]
  },
  {
   "cell_type": "code",
   "execution_count": 39,
   "metadata": {},
   "outputs": [
    {
     "name": "stdout",
     "output_type": "stream",
     "text": [
      "Convert: floating point number  1234.0\n",
      "Convert: number to string  1234\n",
      "<class 'str'>\n",
      "Convert: number to list  ['1', '2', '3', '4']\n"
     ]
    }
   ],
   "source": [
    "x = 1234\n",
    "x = float(x)\n",
    "print('Convert: floating point number ', x)\n",
    "x = 1234\n",
    "x = str(x)\n",
    "print('Convert: number to string ', x)\n",
    "print(type(x))\n",
    "x = list(x)    #I use x from step 2 to convert because integer is not iterable \n",
    "               #therefore cannot feed into function 'list()'\n",
    "print('Convert: number to list ', x)"
   ]
  },
  {
   "cell_type": "code",
   "execution_count": 57,
   "metadata": {},
   "outputs": [
    {
     "name": "stdout",
     "output_type": "stream",
     "text": [
      "Luke, I Am Your Father \n"
     ]
    }
   ],
   "source": [
    "x = 'luke, i am your father'\n",
    "y = x.split(' ')\n",
    "x = ''\n",
    "for letter in y: \n",
    "    l = list(letter)\n",
    "    l[0] = chr(ord(l[0])-32)\n",
    "    letter = ''\n",
    "    for i in l:\n",
    "        letter += str(i)\n",
    "    x += letter + ' '\n",
    "print(x)"
   ]
  },
  {
   "cell_type": "code",
   "execution_count": 88,
   "metadata": {},
   "outputs": [
    {
     "name": "stdout",
     "output_type": "stream",
     "text": [
      "Question 20: \n",
      "a. # of characters x contains:  40\n",
      "b. Convert: list of individual charaters: \n",
      " ['H', 'o', 'w', 'm', 'a', 'n', 'y', 'c', 'h', 'a', 'r', 'a', 'c', 't', 'e', 'r', 's', 'a', 'n', 'd', 'w', 'o', 'r', 'd', 's', 'a', 'r', 'e', 'i', 'n', 't', 'h', 'i', 's', 's', 't', 'r', 'i', 'n', 'g']\n",
      "c. Convert: list of individual words: \n",
      " ['How', 'many', 'characters', 'and', 'words', 'are', 'in', 'this', 'string']\n",
      "d. # of words x contains:  9\n"
     ]
    }
   ],
   "source": [
    "print('Question 20: ')\n",
    "x = 'How many characters and words are in this string?'\n",
    "y = ' '.join(x).replace('?','').split()\n",
    "counter = 0\n",
    "for ch in y:\n",
    "    counter += 1\n",
    "print('a. # of characters x contains: ', counter)\n",
    "print('b. Convert: list of individual charaters: \\n', y)\n",
    "x = x.split('?')\n",
    "x = x[0].split()\n",
    "print('c. Convert: list of individual words: \\n', x)\n",
    "counter = 0\n",
    "for w in x:\n",
    "    counter += 1\n",
    "print('d. # of words x contains: ', counter)"
   ]
  }
 ],
 "metadata": {
  "kernelspec": {
   "display_name": "Python 3",
   "language": "python",
   "name": "python3"
  },
  "language_info": {
   "codemirror_mode": {
    "name": "ipython",
    "version": 3
   },
   "file_extension": ".py",
   "mimetype": "text/x-python",
   "name": "python",
   "nbconvert_exporter": "python",
   "pygments_lexer": "ipython3",
   "version": "3.6.3"
  }
 },
 "nbformat": 4,
 "nbformat_minor": 2
}
